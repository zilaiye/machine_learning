{
 "cells": [
  {
   "cell_type": "code",
   "execution_count": 41,
   "metadata": {},
   "outputs": [],
   "source": [
    "import sys \n",
    "from itertools import chain , combinations\n",
    "from collections import defaultdict \n",
    "from optparse import OptionParser \n",
    "import time "
   ]
  },
  {
   "cell_type": "code",
   "execution_count": 2,
   "metadata": {},
   "outputs": [],
   "source": [
    "def subsets(arr):\n",
    "    return chain(*[combinations(arr,i+1) for i ,a in enumerate(arr)])"
   ]
  },
  {
   "cell_type": "code",
   "execution_count": 20,
   "metadata": {},
   "outputs": [],
   "source": [
    "def runItemsWithMinSupport(itemSet , transactionList , minSupport , freqSet):\n",
    "    \"\"\"计算每个项集的频次，并按照最小支持度进行过滤\"\"\"\n",
    "    _itemSet = set()\n",
    "    localSet = defaultdict(int) \n",
    "    totalLength = len(transactionList)\n",
    "    # 计算每个商品集合的频数\n",
    "    for item in itemSet:\n",
    "        for transaction in transactionList :\n",
    "            if item.issubset(transaction)  :\n",
    "                freqSet[item] += 1 \n",
    "                localSet[item] += 1\n",
    "    # 过滤掉那些支持度不达标的集合\n",
    "    for item,counts in localSet.items(): \n",
    "        support = counts*1.0/totalLength\n",
    "        if support >= minSupport:\n",
    "            _itemSet.add(item)\n",
    "    return _itemSet "
   ]
  },
  {
   "cell_type": "code",
   "execution_count": 32,
   "metadata": {},
   "outputs": [],
   "source": [
    "def joinSet(itemSet,length):\n",
    "    \"\"\"根据已有的频繁项集获取新的频繁项集\"\"\"\n",
    "    return set([ i.union(j) for i in itemSet for j in itemSet if len(i.union(j)) == length ])"
   ]
  },
  {
   "cell_type": "code",
   "execution_count": 5,
   "metadata": {},
   "outputs": [],
   "source": [
    "def getItemSetAndTransactionList(data):\n",
    "    \"\"\"获取原始数据，然后获取所有的一元项集，\n",
    "    这里的项集并非频繁项集，而是所有可能的项集\"\"\"\n",
    "    transactionList = list()\n",
    "    itemSet = set()\n",
    "    for transaction in data :\n",
    "        transactionList.append(transaction)\n",
    "        transactionSet = frozenset(transaction)\n",
    "        for item in transactionSet:\n",
    "            itemSet.add(frozenset([item]))\n",
    "    return transactionList , itemSet "
   ]
  },
  {
   "cell_type": "code",
   "execution_count": 89,
   "metadata": {},
   "outputs": [],
   "source": [
    "def runApriori(dataIterator,minSupport,minConfidence):\n",
    "    \"\"\"计算频繁项集并获取关联规则\"\"\"\n",
    "    # 获取数据信息及一元项集\n",
    "    transactionList , itemSet = getItemSetAndTransactionList(dataIterator)\n",
    "    transactionLen = len(transactionList)\n",
    "    #定义一个存储全局项集的频次的字典\n",
    "    freqSet = defaultdict(int) \n",
    "    #定义一个存储所有频繁项集的集合\n",
    "    globalFreqSet = {}\n",
    "    #定义一个存储全局关联规则的列表\n",
    "    globalRules = list()\n",
    "    #获取一元频繁项集\n",
    "    oneItemSet = runItemsWithMinSupport(itemSet, transactionList, minSupport,freqSet) \n",
    "    initialSet = oneItemSet \n",
    "    #print(\" 1 ----> \" , initialSet)\n",
    "    k = 2 \n",
    "    #计算所有的频繁项集\n",
    "    while True:\n",
    "        #print( len(initialSet)) \n",
    "        if len(initialSet) > 0 :\n",
    "            #添加频繁项集\n",
    "            globalFreqSet[k] = initialSet\n",
    "        else:\n",
    "            break\n",
    "        # 生成可能的频繁更多一个元素的项集\n",
    "        probaFreqSet = joinSet(initialSet,k)\n",
    "        #print(probaFreqSet)\n",
    "        confirmedFreqSet = runItemsWithMinSupport(probaFreqSet , transactionList , minSupport , freqSet)\n",
    "        initialSet = confirmedFreqSet \n",
    "        k += 1 \n",
    "    #获取关联规则，计算每条规则的置信度，并按找minConfidence进行过滤\n",
    "    #定义一个计算事务概率的函数\n",
    "    #print(freqSet)\n",
    "    def get_probability(seta):\n",
    "        return freqSet[seta]*1.0/transactionLen\n",
    "    \n",
    "    globalFreqSetWithSupport = []\n",
    "    for key, value in globalFreqSet.items():\n",
    "        globalFreqSetWithSupport.extend([(tuple(item), get_probability(item))\n",
    "                           for item in value])\n",
    "    \n",
    "    #循环每个频繁项集\n",
    "    for freqItems in globalFreqSet.values() :\n",
    "        #print(\"freqItems = > \" , freqItems)\n",
    "        for oneSet in freqItems:\n",
    "            _subsets = map(frozenset, [x for x in subsets(oneSet)])\n",
    "            #获取该频繁项集的每个子集\n",
    "            for leftSet in _subsets:\n",
    "                # 获取规则的右边\n",
    "                rightSet = oneSet.difference(leftSet)\n",
    "                if len(rightSet) == 0 or len(leftSet) == 0 :\n",
    "                    continue \n",
    "                else:\n",
    "                    # 计算置信度\n",
    "                    #print(\"{s1} {s2} {f1} {f2} \".format(s1=oneSet,s2=leftSet,f1=freqSet[oneSet],f2=freqSet[leftSet]))\n",
    "                    confidence = get_probability(oneSet)/get_probability(leftSet) \n",
    "                if confidence >= minConfidence:\n",
    "                    globalRules.append( (tuple(leftSet),tuple(rightSet),confidence) )\n",
    "    return  globalFreqSetWithSupport,globalRules "
   ]
  },
  {
   "cell_type": "code",
   "execution_count": 84,
   "metadata": {},
   "outputs": [],
   "source": [
    "data = \"\"\"\n",
    "apple,beer,rice,chicken\n",
    "apple,beer,rice\n",
    "apple,beer\n",
    "apple,mango\n",
    "milk,beer,rice,chicken\n",
    "milk,beer,rice\n",
    "milk,beer\n",
    "milk,mango\n",
    "\"\"\"\n",
    "# 定义一个读取事务集的函数\n",
    "def dataFromString(s):\n",
    "    s = s.strip()\n",
    "    for line in s.split('\\n'):\n",
    "        record = frozenset(line.strip().split(','))\n",
    "        yield record \n",
    "minSupport = 0.2 \n",
    "minConfidence = 0.5\n",
    "dataIterator = dataFromString(data)"
   ]
  },
  {
   "cell_type": "code",
   "execution_count": 85,
   "metadata": {},
   "outputs": [],
   "source": [
    "transactions , sets  = getItemSetAndTransactionList(dataIterator)"
   ]
  },
  {
   "cell_type": "code",
   "execution_count": 10,
   "metadata": {},
   "outputs": [
    {
     "data": {
      "text/plain": [
       "{frozenset({'mango'}),\n",
       " frozenset({'beer'}),\n",
       " frozenset({'rice'}),\n",
       " frozenset({'milk'}),\n",
       " frozenset({'apple'}),\n",
       " frozenset({'chicken'})}"
      ]
     },
     "execution_count": 10,
     "metadata": {},
     "output_type": "execute_result"
    }
   ],
   "source": [
    "sets"
   ]
  },
  {
   "cell_type": "code",
   "execution_count": 11,
   "metadata": {},
   "outputs": [
    {
     "data": {
      "text/plain": [
       "[frozenset({'apple', 'beer', 'chicken', 'rice'}),\n",
       " frozenset({'apple', 'beer', 'rice'}),\n",
       " frozenset({'apple', 'beer'}),\n",
       " frozenset({'apple', 'mango'}),\n",
       " frozenset({'beer', 'chicken', 'milk', 'rice'}),\n",
       " frozenset({'beer', 'milk', 'rice'}),\n",
       " frozenset({'beer', 'milk'}),\n",
       " frozenset({'mango', 'milk'})]"
      ]
     },
     "execution_count": 11,
     "metadata": {},
     "output_type": "execute_result"
    }
   ],
   "source": [
    "transactions"
   ]
  },
  {
   "cell_type": "code",
   "execution_count": 24,
   "metadata": {},
   "outputs": [],
   "source": [
    "lset = defaultdict(int)"
   ]
  },
  {
   "cell_type": "code",
   "execution_count": 25,
   "metadata": {},
   "outputs": [],
   "source": [
    "set2 = runItemsWithMinSupport(sets, transactions, minSupport,lset)"
   ]
  },
  {
   "cell_type": "code",
   "execution_count": 26,
   "metadata": {},
   "outputs": [
    {
     "data": {
      "text/plain": [
       "{frozenset({'mango'}),\n",
       " frozenset({'beer'}),\n",
       " frozenset({'rice'}),\n",
       " frozenset({'milk'}),\n",
       " frozenset({'apple'}),\n",
       " frozenset({'chicken'})}"
      ]
     },
     "execution_count": 26,
     "metadata": {},
     "output_type": "execute_result"
    }
   ],
   "source": [
    "set2"
   ]
  },
  {
   "cell_type": "code",
   "execution_count": 27,
   "metadata": {},
   "outputs": [
    {
     "data": {
      "text/plain": [
       "defaultdict(int,\n",
       "            {frozenset({'mango'}): 2,\n",
       "             frozenset({'beer'}): 6,\n",
       "             frozenset({'rice'}): 4,\n",
       "             frozenset({'milk'}): 4,\n",
       "             frozenset({'apple'}): 4,\n",
       "             frozenset({'chicken'}): 2})"
      ]
     },
     "execution_count": 27,
     "metadata": {},
     "output_type": "execute_result"
    }
   ],
   "source": [
    "lset"
   ]
  },
  {
   "cell_type": "code",
   "execution_count": 28,
   "metadata": {},
   "outputs": [
    {
     "data": {
      "text/plain": [
       "1.6"
      ]
     },
     "execution_count": 28,
     "metadata": {},
     "output_type": "execute_result"
    }
   ],
   "source": [
    "len(transactions)*0.2"
   ]
  },
  {
   "cell_type": "code",
   "execution_count": null,
   "metadata": {},
   "outputs": [],
   "source": []
  },
  {
   "cell_type": "code",
   "execution_count": 90,
   "metadata": {},
   "outputs": [],
   "source": [
    "dataIterator = dataFromString(data)\n",
    "globalSet , globalRule =  runApriori(dataIterator,minSupport,minConfidence) "
   ]
  },
  {
   "cell_type": "code",
   "execution_count": 91,
   "metadata": {
    "scrolled": false
   },
   "outputs": [
    {
     "name": "stdout",
     "output_type": "stream",
     "text": [
      "[(('mango',), 0.25), (('beer',), 0.75), (('rice',), 0.5), (('milk',), 0.5), (('apple',), 0.5), (('chicken',), 0.25), (('beer', 'chicken'), 0.25), (('beer', 'milk'), 0.375), (('beer', 'apple'), 0.375), (('rice', 'milk'), 0.25), (('beer', 'rice'), 0.5), (('rice', 'apple'), 0.25), (('rice', 'chicken'), 0.25), (('beer', 'rice', 'apple'), 0.25), (('beer', 'rice', 'chicken'), 0.25), (('beer', 'rice', 'milk'), 0.25)]\n"
     ]
    }
   ],
   "source": [
    "print(globalSet)"
   ]
  },
  {
   "cell_type": "code",
   "execution_count": 92,
   "metadata": {},
   "outputs": [
    {
     "name": "stdout",
     "output_type": "stream",
     "text": [
      "[(('chicken',), ('beer',), 1.0), (('beer',), ('milk',), 0.5), (('milk',), ('beer',), 0.75), (('beer',), ('apple',), 0.5), (('apple',), ('beer',), 0.75), (('rice',), ('milk',), 0.5), (('milk',), ('rice',), 0.5), (('beer',), ('rice',), 0.6666666666666666), (('rice',), ('beer',), 1.0), (('rice',), ('apple',), 0.5), (('apple',), ('rice',), 0.5), (('rice',), ('chicken',), 0.5), (('chicken',), ('rice',), 1.0), (('rice',), ('beer', 'apple'), 0.5), (('apple',), ('beer', 'rice'), 0.5), (('beer', 'rice'), ('apple',), 0.5), (('beer', 'apple'), ('rice',), 0.6666666666666666), (('rice', 'apple'), ('beer',), 1.0), (('rice',), ('beer', 'chicken'), 0.5), (('chicken',), ('beer', 'rice'), 1.0), (('beer', 'rice'), ('chicken',), 0.5), (('beer', 'chicken'), ('rice',), 1.0), (('rice', 'chicken'), ('beer',), 1.0), (('rice',), ('beer', 'milk'), 0.5), (('milk',), ('beer', 'rice'), 0.5), (('beer', 'rice'), ('milk',), 0.5), (('beer', 'milk'), ('rice',), 0.6666666666666666), (('rice', 'milk'), ('beer',), 1.0)]\n"
     ]
    }
   ],
   "source": [
    "print(globalRule)"
   ]
  },
  {
   "cell_type": "code",
   "execution_count": 93,
   "metadata": {},
   "outputs": [
    {
     "data": {
      "text/plain": [
       "28"
      ]
     },
     "execution_count": 93,
     "metadata": {},
     "output_type": "execute_result"
    }
   ],
   "source": [
    "len(globalRule)"
   ]
  },
  {
   "cell_type": "code",
   "execution_count": 94,
   "metadata": {},
   "outputs": [
    {
     "data": {
      "text/plain": [
       "16"
      ]
     },
     "execution_count": 94,
     "metadata": {},
     "output_type": "execute_result"
    }
   ],
   "source": [
    "len(globalSet)"
   ]
  },
  {
   "cell_type": "code",
   "execution_count": 96,
   "metadata": {},
   "outputs": [
    {
     "name": "stdout",
     "output_type": "stream",
     "text": [
      "1\n",
      "2\n",
      "3\n",
      "4\n",
      "5\n"
     ]
    }
   ],
   "source": [
    "for x in chain([1,2,3,4,5]) :\n",
    "    print(x)"
   ]
  },
  {
   "cell_type": "code",
   "execution_count": 97,
   "metadata": {},
   "outputs": [
    {
     "name": "stdout",
     "output_type": "stream",
     "text": [
      "(1, 2, 3)\n",
      "(1, 2, 4)\n",
      "(1, 2, 5)\n",
      "(1, 2, 6)\n",
      "(1, 3, 4)\n",
      "(1, 3, 5)\n",
      "(1, 3, 6)\n",
      "(1, 4, 5)\n",
      "(1, 4, 6)\n",
      "(1, 5, 6)\n",
      "(2, 3, 4)\n",
      "(2, 3, 5)\n",
      "(2, 3, 6)\n",
      "(2, 4, 5)\n",
      "(2, 4, 6)\n",
      "(2, 5, 6)\n",
      "(3, 4, 5)\n",
      "(3, 4, 6)\n",
      "(3, 5, 6)\n",
      "(4, 5, 6)\n"
     ]
    }
   ],
   "source": [
    "for x in combinations([1,2,3,4,5,6],3):\n",
    "    print(x)"
   ]
  },
  {
   "cell_type": "code",
   "execution_count": 102,
   "metadata": {
    "scrolled": false
   },
   "outputs": [
    {
     "name": "stdout",
     "output_type": "stream",
     "text": [
      "(1, 2, 3)\n",
      "(1, 2, 4)\n",
      "(1, 2, 5)\n",
      "(1, 2, 6)\n",
      "(1, 3, 4)\n",
      "(1, 3, 5)\n",
      "(1, 3, 6)\n",
      "(1, 4, 5)\n",
      "(1, 4, 6)\n",
      "(1, 5, 6)\n",
      "(2, 3, 4)\n",
      "(2, 3, 5)\n",
      "(2, 3, 6)\n",
      "(2, 4, 5)\n",
      "(2, 4, 6)\n",
      "(2, 5, 6)\n",
      "(3, 4, 5)\n",
      "(3, 4, 6)\n",
      "(3, 5, 6)\n",
      "(4, 5, 6)\n",
      "(1, 2, 3, 4)\n",
      "(1, 2, 3, 5)\n",
      "(1, 2, 3, 6)\n",
      "(1, 2, 4, 5)\n",
      "(1, 2, 4, 6)\n",
      "(1, 2, 5, 6)\n",
      "(1, 3, 4, 5)\n",
      "(1, 3, 4, 6)\n",
      "(1, 3, 5, 6)\n",
      "(1, 4, 5, 6)\n",
      "(2, 3, 4, 5)\n",
      "(2, 3, 4, 6)\n",
      "(2, 3, 5, 6)\n",
      "(2, 4, 5, 6)\n",
      "(3, 4, 5, 6)\n"
     ]
    }
   ],
   "source": [
    "for x in chain(*[combinations([1,2,3,4,5,6],3),combinations([1,2,3,4,5,6],4)]):\n",
    "    print(x)"
   ]
  },
  {
   "cell_type": "code",
   "execution_count": 109,
   "metadata": {
    "scrolled": true
   },
   "outputs": [
    {
     "name": "stdout",
     "output_type": "stream",
     "text": [
      "(1, 2, 3)\n",
      "(1, 2, 4)\n",
      "(1, 2, 5)\n",
      "(1, 2, 6)\n",
      "(1, 3, 4)\n",
      "(1, 3, 5)\n",
      "(1, 3, 6)\n",
      "(1, 4, 5)\n",
      "(1, 4, 6)\n",
      "(1, 5, 6)\n",
      "(2, 3, 4)\n",
      "(2, 3, 5)\n",
      "(2, 3, 6)\n",
      "(2, 4, 5)\n",
      "(2, 4, 6)\n",
      "(2, 5, 6)\n",
      "(3, 4, 5)\n",
      "(3, 4, 6)\n",
      "(3, 5, 6)\n",
      "(4, 5, 6)\n"
     ]
    }
   ],
   "source": [
    "for x in chain(*[combinations([1,2,3,4,5,6],3) ]):\n",
    "    print(x)"
   ]
  },
  {
   "cell_type": "code",
   "execution_count": 116,
   "metadata": {},
   "outputs": [],
   "source": [
    "l = [(1,2,4),(2,3,5)]"
   ]
  },
  {
   "cell_type": "code",
   "execution_count": 118,
   "metadata": {},
   "outputs": [
    {
     "name": "stdout",
     "output_type": "stream",
     "text": [
      "(1, 2, 4)\n",
      "(2, 3, 5)\n"
     ]
    }
   ],
   "source": [
    "for x in chain(l):\n",
    "    print(x)"
   ]
  },
  {
   "cell_type": "code",
   "execution_count": 119,
   "metadata": {},
   "outputs": [
    {
     "name": "stdout",
     "output_type": "stream",
     "text": [
      "1\n",
      "2\n",
      "4\n",
      "2\n",
      "3\n",
      "5\n"
     ]
    }
   ],
   "source": [
    "for x in chain(*l):\n",
    "    print(x)"
   ]
  },
  {
   "cell_type": "code",
   "execution_count": null,
   "metadata": {},
   "outputs": [],
   "source": []
  }
 ],
 "metadata": {
  "kernelspec": {
   "display_name": "Python 3",
   "language": "python",
   "name": "python3"
  },
  "language_info": {
   "codemirror_mode": {
    "name": "ipython",
    "version": 3
   },
   "file_extension": ".py",
   "mimetype": "text/x-python",
   "name": "python",
   "nbconvert_exporter": "python",
   "pygments_lexer": "ipython3",
   "version": "3.6.5"
  }
 },
 "nbformat": 4,
 "nbformat_minor": 2
}
